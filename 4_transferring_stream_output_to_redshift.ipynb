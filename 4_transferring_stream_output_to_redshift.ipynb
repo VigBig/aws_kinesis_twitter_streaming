{
 "cells": [
  {
   "cell_type": "code",
   "execution_count": 33,
   "metadata": {},
   "outputs": [
    {
     "data": {
      "text/plain": [
       "'\\n\\n@Author: Vighnesh Harish Bilgi\\n@Date: 2022-11-24\\n@Last Modified by: Vighnesh Harish Bilgi\\n@Last Modified time: 2022-11-24\\n@Title : To transform twitter streaming output file into csv file and send it to AWS Redshift\\n\\n'"
      ]
     },
     "execution_count": 33,
     "metadata": {},
     "output_type": "execute_result"
    }
   ],
   "source": [
    "'''\n",
    "\n",
    "@Author: Vighnesh Harish Bilgi\n",
    "@Date: 2022-11-24\n",
    "@Last Modified by: Vighnesh Harish Bilgi\n",
    "@Last Modified time: 2022-11-24\n",
    "@Title : To transform twitter streaming output file into csv file and send it to AWS Redshift\n",
    "\n",
    "'''"
   ]
  },
  {
   "cell_type": "code",
   "execution_count": 34,
   "metadata": {},
   "outputs": [],
   "source": [
    "import boto3\n",
    "import json\n",
    "import csv\n",
    "import pandas as pd"
   ]
  },
  {
   "cell_type": "code",
   "execution_count": 35,
   "metadata": {},
   "outputs": [],
   "source": [
    "import os\n",
    "os.environ['AWS_DEFAULT_REGION'] = 'ap-south-1'\n",
    "os.environ['AWS_ACCESS_KEY_ID'] = os.environ.get('test1_access_key')\n",
    "os.environ['AWS_SECRET_ACCESS_KEY'] = os.environ.get('test1_secret_access_key')"
   ]
  },
  {
   "cell_type": "markdown",
   "metadata": {},
   "source": [
    "### 1. Fetch the ouptut twitter stream file as a text file and convert into csv file and upload it back into bucket"
   ]
  },
  {
   "cell_type": "code",
   "execution_count": 38,
   "metadata": {},
   "outputs": [],
   "source": [
    "def connect_to_s3_client():\n",
    "    \"\"\"\n",
    "\n",
    "    Description:\n",
    "        To connect to AWS S3 service.\n",
    "    Parameter:\n",
    "        No parameters\n",
    "    Return:\n",
    "        ServiceResource s3\n",
    "    \"\"\"\n",
    "    # s3 =  boto3.resource('s3')\n",
    "    client = boto3.client(\"s3\")\n",
    "    return client\n",
    "\n",
    "\n",
    "def connect_to_s3_resource():\n",
    "    \"\"\"\n",
    "\n",
    "    Description:\n",
    "        To connect to AWS S3 service through an IAM user.\n",
    "    Parameter:\n",
    "        No parameters\n",
    "    Return:\n",
    "        ServiceResource s3\n",
    "    \"\"\"\n",
    "    s3 =  boto3.resource(service_name = 's3')\n",
    "    return s3\n",
    "\n",
    "\n",
    "def main():\n",
    "\n",
    "    client = connect_to_s3_client()\n",
    "    # The file downloaded contains one large string of dictionaries.\n",
    "    client.download_file('twitter-streaming-output-bucket', 'data/2022/11/24/10/TwitterStreamingDownStream-1-2022-11-24-10-37-32-c7c0825c-23fe-41ff-a2ac-60653e22c842','twitter_sentiment_output.txt')\n",
    "\n",
    "    with open(\"twitter_sentiment_output.txt\" , encoding=\"utf8\") as file:\n",
    "        data = file.read()\n",
    "        list_of_incomp_str_dict = data.split('}')\n",
    "    \n",
    "    # print(list_of_incomp_str_dict)\n",
    "\n",
    "    list_of_comp_str_dict = []\n",
    "\n",
    "    for inc_dict in list_of_incomp_str_dict:\n",
    "        list_of_comp_str_dict.append(inc_dict+\"}\")\n",
    "\n",
    "    list_of_comp_str_dict.pop()\n",
    "    # print(list_of_comp_str_dict)\n",
    "\n",
    "    #Now we convert dictionary as string to dictionary\n",
    "    list_of_dict = []\n",
    "\n",
    "    for str_dict in list_of_comp_str_dict:\n",
    "        list_of_dict.append(json.loads(str_dict))\n",
    "        # list_of_dict.append(ast.literal_eval(str_dict))\n",
    "\n",
    "    df = pd.DataFrame(list_of_dict)\n",
    "    df.to_csv('twitter_sentiment_output.csv', index=False, header=True)\n",
    "\n",
    "\n",
    "    # creating new bucket \n",
    "    s3 = connect_to_s3_resource()\n",
    "    client.create_bucket(Bucket = 'redshift-twitter-input-bucket',ACL = 'public-read-write',  CreateBucketConfiguration={'LocationConstraint': 'ap-south-1'})\n",
    "    print(\"Printing all bucket names to verify if - redshift-twitter-bucket is created:\")\n",
    "    for bucket in s3.buckets.all():\n",
    "        print(bucket.name)\n",
    "\n",
    "    # uploading csv file to the new bucket to be accessed by redshift \n",
    "    client.upload_file(Filename = 'twitter_sentiment_output.csv',Bucket = 'redshift-twitter-input-bucket', Key = 'twitter_sentiment_output.csv')    \n",
    "\n",
    "if __name__ == \"__main__\":\n",
    "    main()"
   ]
  }
 ],
 "metadata": {
  "kernelspec": {
   "display_name": "Python 3.8.10 64-bit",
   "language": "python",
   "name": "python3"
  },
  "language_info": {
   "codemirror_mode": {
    "name": "ipython",
    "version": 3
   },
   "file_extension": ".py",
   "mimetype": "text/x-python",
   "name": "python",
   "nbconvert_exporter": "python",
   "pygments_lexer": "ipython3",
   "version": "3.8.10"
  },
  "orig_nbformat": 4,
  "vscode": {
   "interpreter": {
    "hash": "570feb405e2e27c949193ac68f46852414290d515b0ba6e5d90d076ed2284471"
   }
  }
 },
 "nbformat": 4,
 "nbformat_minor": 2
}
